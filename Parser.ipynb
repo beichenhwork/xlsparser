{
 "cells": [
  {
   "cell_type": "code",
   "execution_count": 3,
   "metadata": {},
   "outputs": [],
   "source": [
    "import pandas as pd\n",
    "import re\n",
    "import xlrd\n",
    "import os\n",
    "import xlwt"
   ]
  },
  {
   "cell_type": "code",
   "execution_count": 3,
   "metadata": {},
   "outputs": [
    {
     "ename": "SyntaxError",
     "evalue": "invalid syntax (4101730100.py, line 2)",
     "output_type": "error",
     "traceback": [
      "\u001b[0;36m  Input \u001b[0;32mIn [3]\u001b[0;36m\u001b[0m\n\u001b[0;31m    conda env export > environment.yml\u001b[0m\n\u001b[0m          ^\u001b[0m\n\u001b[0;31mSyntaxError\u001b[0m\u001b[0;31m:\u001b[0m invalid syntax\n"
     ]
    }
   ],
   "source": [
    "# conda activate example-environment\n",
    "# conda env export > environment.yml\n",
    "\n",
    "conda env export --from-history -f environment.yml"
   ]
  },
  {
   "cell_type": "code",
   "execution_count": 8,
   "metadata": {},
   "outputs": [],
   "source": [
    "def Get_Nutrition_Info(nutrition_info):\n",
    "    m = re.search(r'(((Crude Fat)|(Total Calories)|(Crude Fiber)|(Moisture)|(Crude Protein)):[ ]*[\\d]+[.]*[\\d]*((kcal)|(%)))+', nutrition_info)\n",
    "    if m:\n",
    "        return m.group()\n",
    "    else:\n",
    "        return \"\"\n",
    "\n",
    "    \n",
    "def Get_Number(plain_text):\n",
    "    res = re.findall(r\"([-+]?\\d*\\.\\d+|\\d+)\", plain_text)\n",
    "    return res"
   ]
  },
  {
   "cell_type": "code",
   "execution_count": 9,
   "metadata": {},
   "outputs": [],
   "source": [
    "file_path = './PetFoodNutritionFact.xls'\n",
    "data = pd.read_excel(file_path, header = 0)\n",
    "products_name = data.values[:,1]\n",
    "nutritions_info = data.values[:,2]"
   ]
  },
  {
   "cell_type": "code",
   "execution_count": 10,
   "metadata": {},
   "outputs": [],
   "source": [
    "workbook = xlwt.Workbook(encoding='utf-8')\n",
    "worksheet = workbook.add_sheet('Worksheet')\n",
    "\n",
    "nutrition_title_list = [\"Total Calories\", \"Crude Fat\", \"Crude Fiber\", \"Moisture\", \"Crude Protein\"]\n",
    "\n",
    "# initial excel title index\n",
    "# worksheet.write parameters: row, line, value\n",
    "worksheet.write(0, 0, label = \"Product Name\")\n",
    "for i in range(len(nutrition_title_list)):\n",
    "    worksheet.write(0, i+1, label=nutrition_title_list[i])"
   ]
  },
  {
   "cell_type": "code",
   "execution_count": 11,
   "metadata": {
    "collapsed": true,
    "jupyter": {
     "outputs_hidden": true
    },
    "tags": []
   },
   "outputs": [
    {
     "name": "stdout",
     "output_type": "stream",
     "text": [
      "get wrong\n",
      "get wrong\n",
      "get wrong\n",
      "get wrong\n",
      "get wrong\n",
      "get wrong\n",
      "get wrong\n",
      "get wrong\n",
      "get wrong\n",
      "get wrong\n",
      "get wrong\n",
      "get wrong\n",
      "get wrong\n",
      "get wrong\n",
      "get wrong\n",
      "get wrong\n",
      "get wrong\n",
      "get wrong\n",
      "get wrong\n",
      "get wrong\n",
      "get wrong\n",
      "get wrong\n",
      "get wrong\n",
      "get wrong\n",
      "get wrong\n",
      "get wrong\n",
      "get wrong\n",
      "get wrong\n",
      "get wrong\n",
      "get wrong\n",
      "get wrong\n",
      "get wrong\n",
      "get wrong\n",
      "get wrong\n",
      "get wrong\n",
      "get wrong\n",
      "get wrong\n",
      "get wrong\n",
      "get wrong\n",
      "get wrong\n",
      "get wrong\n",
      "get wrong\n",
      "get wrong\n",
      "get wrong\n",
      "get wrong\n",
      "get wrong\n",
      "get wrong\n",
      "get wrong\n",
      "get wrong\n",
      "get wrong\n",
      "get wrong\n",
      "get wrong\n",
      "get wrong\n",
      "get wrong\n",
      "get wrong\n",
      "get wrong\n",
      "get wrong\n",
      "get wrong\n",
      "get wrong\n",
      "get wrong\n",
      "get wrong\n",
      "get wrong\n",
      "get wrong\n",
      "get wrong\n",
      "get wrong\n",
      "get wrong\n",
      "get wrong\n",
      "get wrong\n",
      "get wrong\n",
      "get wrong\n",
      "get wrong\n",
      "get wrong\n",
      "get wrong\n",
      "get wrong\n",
      "get wrong\n",
      "get wrong\n",
      "get wrong\n",
      "get wrong\n",
      "get wrong\n",
      "get wrong\n",
      "get wrong\n",
      "get wrong\n",
      "get wrong\n",
      "get wrong\n",
      "get wrong\n",
      "get wrong\n",
      "get wrong\n",
      "get wrong\n",
      "get wrong\n",
      "get wrong\n",
      "get wrong\n",
      "get wrong\n",
      "get wrong\n",
      "get wrong\n",
      "get wrong\n",
      "get wrong\n",
      "get wrong\n",
      "get wrong\n",
      "get wrong\n",
      "get wrong\n",
      "get wrong\n",
      "get wrong\n",
      "get wrong\n",
      "get wrong\n",
      "get wrong\n",
      "get wrong\n",
      "get wrong\n",
      "get wrong\n",
      "get wrong\n",
      "get wrong\n",
      "get wrong\n",
      "get wrong\n",
      "get wrong\n",
      "get wrong\n",
      "get wrong\n",
      "get wrong\n",
      "get wrong\n",
      "get wrong\n",
      "get wrong\n",
      "get wrong\n",
      "get wrong\n",
      "get wrong\n",
      "get wrong\n",
      "get wrong\n",
      "get wrong\n",
      "get wrong\n",
      "get wrong\n",
      "get wrong\n",
      "get wrong\n",
      "get wrong\n",
      "get wrong\n",
      "get wrong\n",
      "get wrong\n",
      "get wrong\n",
      "get wrong\n",
      "get wrong\n"
     ]
    }
   ],
   "source": [
    "for i in range(len(products_name)):\n",
    "    try:\n",
    "        nutrition_val_list = [\"\"]*5\n",
    "        product_name = products_name[i]\n",
    "        # inject data from row 1\n",
    "        worksheet.write(i+1, 0, label=product_name)\n",
    "\n",
    "        nutrition_info_list = nutritions_info[i].split(\",\")\n",
    "        new_nutrition_info_list = list()\n",
    "\n",
    "        for j in range(len(nutrition_info_list)):\n",
    "            current_cell_info = Get_Nutrition_Info(nutrition_info_list[j].strip())\n",
    "            for k in range(len(nutrition_title_list)):\n",
    "                if nutrition_title_list[k] in current_cell_info:\n",
    "                    # print(\"get info:\", nutrition_title_list[k], k)\n",
    "                    nutrition_val_list[k] = Get_Number(current_cell_info)[0]\n",
    "\n",
    "        for q in range(len(nutrition_val_list)):\n",
    "            worksheet.write(i+1, q+1, label = nutrition_val_list[q])\n",
    "\n",
    "                 \n",
    "    except:\n",
    "        print(\"get wrong\")\n",
    "       "
   ]
  },
  {
   "cell_type": "code",
   "execution_count": 12,
   "metadata": {},
   "outputs": [],
   "source": [
    "workbook.save('./PetFoodNutritionFactDataAnalysis.xls')"
   ]
  },
  {
   "cell_type": "code",
   "execution_count": null,
   "metadata": {},
   "outputs": [],
   "source": []
  },
  {
   "cell_type": "code",
   "execution_count": null,
   "metadata": {},
   "outputs": [],
   "source": []
  },
  {
   "cell_type": "code",
   "execution_count": null,
   "metadata": {},
   "outputs": [],
   "source": []
  }
 ],
 "metadata": {
  "kernelspec": {
   "display_name": "Python 3 (ipykernel)",
   "language": "python",
   "name": "python3"
  },
  "language_info": {
   "codemirror_mode": {
    "name": "ipython",
    "version": 3
   },
   "file_extension": ".py",
   "mimetype": "text/x-python",
   "name": "python",
   "nbconvert_exporter": "python",
   "pygments_lexer": "ipython3",
   "version": "3.9.13"
  }
 },
 "nbformat": 4,
 "nbformat_minor": 4
}
