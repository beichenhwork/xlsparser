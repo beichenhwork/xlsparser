{
 "cells": [
  {
   "cell_type": "code",
   "execution_count": 1,
   "metadata": {},
   "outputs": [],
   "source": [
    "import pandas as pd\n",
    "import re\n",
    "import xlrd\n",
    "import os\n",
    "import xlwt\n",
    "import openpyxl"
   ]
  },
  {
   "cell_type": "code",
   "execution_count": 2,
   "metadata": {},
   "outputs": [],
   "source": [
    "# conda activate xlsparser\n",
    "# conda env export --from-history -f environment.yml"
   ]
  },
  {
   "cell_type": "code",
   "execution_count": 3,
   "metadata": {},
   "outputs": [],
   "source": [
    "def get_nutrition_info(nutrition_info):\n",
    "    m = re.search(r'(((fat)|(calories)|(fiber)|(moisture)|(protein)|(ash))[(]*[ ]*[\\w]*[)]*:[ ]*[\\d]+[.]*[\\d]*((kcal)|(%)))+', nutrition_info)\n",
    "    if m:\n",
    "        return m.group()\n",
    "    else:\n",
    "        return \"\"\n",
    "    \n",
    "def get_number(plain_text):\n",
    "    res = re.findall(r\"([-+]?\\d*\\.\\d+|\\d+)\", plain_text)\n",
    "    return res\n",
    "\n",
    "def excel_save(save_path, save_workbook):\n",
    "    save_workbook.save(save_path)"
   ]
  },
  {
   "cell_type": "code",
   "execution_count": 14,
   "metadata": {
    "tags": []
   },
   "outputs": [],
   "source": [
    "# file_path = './PetFoodNutritionFact.xls'\n",
    "\n",
    "file = './Nutrition data/'\n",
    "\n",
    "os.listdir(file)\n",
    "\n",
    "for file_path in os.listdir(file):\n",
    "    data = pd.read_excel(file + file_path, header = 0)\n",
    "    \n",
    "    # products_name = data.values[:,1]\n",
    "    # nutritions_info = data.values[:,9]\n",
    "    # workbook = xlwt.Workbook(encoding='utf-8')\n",
    "    # worksheet = workbook.add_sheet('Pet_Nutrition_Info')\n",
    "    # nutrition_title_list = [\"Calories\", \"Protein\", \"Fat\", \"Fiber\", \"Ash\", \"Moisture\"]\n",
    "    # # initial excel title index\n",
    "    # # worksheet.write parameters: row, line, value\n",
    "    # worksheet.write(0, 0, label = \"Product Name\")\n",
    "    # for i in range(len(nutrition_title_list)):\n",
    "    #     worksheet.write(0, i+1, label= nutrition_title_list[i])"
   ]
  },
  {
   "cell_type": "code",
   "execution_count": 19,
   "metadata": {},
   "outputs": [],
   "source": [
    "for i in range(len(products_name)):\n",
    "    try:\n",
    "        nutrition_val_list = [\"\"]*len(nutrition_title_list)\n",
    "        product_name = products_name[i]\n",
    "        \n",
    "        # input production name\n",
    "        worksheet.write(i+1, 0, label=product_name)\n",
    "        \n",
    "        # get all nutrition info list\n",
    "        nutrition_info_list = nutritions_info[i].split(\",\")\n",
    "        new_nutrition_info_list = list()\n",
    "\n",
    "        for j in range(len(nutrition_info_list)):\n",
    "            current_cell_info = Get_Nutrition_Info(nutrition_info_list[j].strip().lower())\n",
    "            for k in range(len(nutrition_title_list)):\n",
    "                if nutrition_title_list[k].lower() in current_cell_info.lower():\n",
    "                    # print(\"get info:\", nutrition_title_list[k], k)\n",
    "                    nutrition_val_list[k] = Get_Number(current_cell_info)[0]\n",
    "\n",
    "        for q in range(len(nutrition_val_list)):\n",
    "            \n",
    "            worksheet.write(i+1, q+1, label = nutrition_val_list[q])\n",
    "\n",
    "                 \n",
    "    except Exception as e:\n",
    "        \n",
    "        print(\"Cannot grab info from row: \", i)\n",
    "        print(\"Production name: \", product_name)\n",
    "        print(\"Nutrition Info: \", nutritions_info[i])\n",
    "        print(\"error info: \", e)\n",
    "        print(\"-------------------------\")\n",
    "       "
   ]
  },
  {
   "cell_type": "code",
   "execution_count": 21,
   "metadata": {},
   "outputs": [],
   "source": []
  }
 ],
 "metadata": {
  "kernelspec": {
   "display_name": "Python 3 (ipykernel)",
   "language": "python",
   "name": "python3"
  },
  "language_info": {
   "codemirror_mode": {
    "name": "ipython",
    "version": 3
   },
   "file_extension": ".py",
   "mimetype": "text/x-python",
   "name": "python",
   "nbconvert_exporter": "python",
   "pygments_lexer": "ipython3",
   "version": "3.9.13"
  }
 },
 "nbformat": 4,
 "nbformat_minor": 4
}
